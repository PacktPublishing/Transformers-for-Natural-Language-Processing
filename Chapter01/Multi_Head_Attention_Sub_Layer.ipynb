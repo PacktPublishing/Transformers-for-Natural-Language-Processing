{
  "cells": [
    {
      "cell_type": "markdown",
      "metadata": {
        "colab_type": "text",
        "id": "aXACkAtfNpG0"
      },
      "source": [
        "# The Attention Mechanism\n",
        "Copyright 2020, Denis Rothman, MIT License. Denis Rothman rewrote the reference notebook entirely in basic Python with no frameworks. Three more steps were added, and a Hugging Face transformer example was added. The original images were taken out, redesigned by Denis Rothman for educational purposes, and inserted in the book descriptions of the multi-attention sub-layer.\n",
        "\n",
        "[The Reference Colaboratory Notebook was written by Manuel Romero](https://colab.research.google.com/drive/1rPk3ohrmVclqhH7uQ7qys4oznDdAhpzF)\n",
        "\n",
        "[A Medium article was written by Raimi Karim](https://towardsdatascience.com/illustrated-self-attention-2d627e33b20a)"
      ]
    },
    {
      "cell_type": "code",
      "execution_count": null,
      "metadata": {
        "colab": {},
        "colab_type": "code",
        "id": "veRoFjFRNXwJ"
      },
      "outputs": [],
      "source": [
        "import numpy as np\n",
        "from scipy.special import softmax"
      ]
    },
    {
      "cell_type": "code",
      "execution_count": null,
      "metadata": {
        "colab": {
          "base_uri": "https://localhost:8080/",
          "height": 90
        },
        "colab_type": "code",
        "id": "JLe9lWCJNogW",
        "outputId": "733e039b-343e-4161-9919-19b3a1ec130f"
      },
      "outputs": [
        {
          "name": "stdout",
          "output_type": "stream",
          "text": [
            "Step 1: Input : 3 inputs, d_model=4\n",
            "[[1. 0. 1. 0.]\n",
            " [0. 2. 0. 2.]\n",
            " [1. 1. 1. 1.]]\n"
          ]
        }
      ],
      "source": [
        "print(\"Step 1: Input : 3 inputs, d_model=4\")\n",
        "x = np.array([[1.0, 0.0, 1.0, 0.0],   # Input 1\n",
        "              [0.0, 2.0, 0.0, 2.0],   # Input 2\n",
        "              [1.0, 1.0, 1.0, 1.0]])  # Input 3\n",
        "print(x)"
      ]
    },
    {
      "cell_type": "code",
      "execution_count": null,
      "metadata": {
        "colab": {
          "base_uri": "https://localhost:8080/",
          "height": 126
        },
        "colab_type": "code",
        "id": "JZImwtHPN91V",
        "outputId": "07706940-e200-4956-b957-fe9681139d0d"
      },
      "outputs": [
        {
          "name": "stdout",
          "output_type": "stream",
          "text": [
            "Step 2: weights 3 dimensions x d_model=4\n",
            "w_query\n",
            "[[1 0 1]\n",
            " [1 0 0]\n",
            " [0 0 1]\n",
            " [0 1 1]]\n"
          ]
        }
      ],
      "source": [
        "print(\"Step 2: weights 3 dimensions x d_model=4\")\n",
        "print(\"w_query\")\n",
        "w_query = np.array([[1, 0, 1],\n",
        "                    [1, 0, 0],\n",
        "                    [0, 0, 1],\n",
        "                    [0, 1, 1]])\n",
        "print(w_query)"
      ]
    },
    {
      "cell_type": "code",
      "execution_count": null,
      "metadata": {
        "colab": {
          "base_uri": "https://localhost:8080/",
          "height": 108
        },
        "colab_type": "code",
        "id": "7kRBS7MUOFgV",
        "outputId": "8b0bcc03-88b1-4e8d-a483-dacc91ffa9ee"
      },
      "outputs": [
        {
          "name": "stdout",
          "output_type": "stream",
          "text": [
            "w_key\n",
            "[[0 0 1]\n",
            " [1 1 0]\n",
            " [0 1 0]\n",
            " [1 1 0]]\n"
          ]
        }
      ],
      "source": [
        "print(\"w_key\")\n",
        "w_key = np.array([[0, 0, 1],\n",
        "                  [1, 1, 0],\n",
        "                  [0, 1, 0],\n",
        "                  [1, 1, 0]])\n",
        "print(w_key)"
      ]
    },
    {
      "cell_type": "code",
      "execution_count": null,
      "metadata": {
        "colab": {
          "base_uri": "https://localhost:8080/",
          "height": 108
        },
        "colab_type": "code",
        "id": "Napm2VtkOIEN",
        "outputId": "7331eb08-64d5-4a36-eeef-0a0a556f130b"
      },
      "outputs": [
        {
          "name": "stdout",
          "output_type": "stream",
          "text": [
            "w_value\n",
            "[[0 2 0]\n",
            " [0 3 0]\n",
            " [1 0 3]\n",
            " [1 1 0]]\n"
          ]
        }
      ],
      "source": [
        "print(\"w_value\")\n",
        "w_value = np.array([[0, 2, 0],\n",
        "                    [0, 3, 0],\n",
        "                    [1, 0, 3],\n",
        "                    [1, 1, 0]])\n",
        "print(w_value)"
      ]
    },
    {
      "cell_type": "code",
      "execution_count": null,
      "metadata": {
        "colab": {
          "base_uri": "https://localhost:8080/",
          "height": 108
        },
        "colab_type": "code",
        "id": "JqapIgfDOQ7d",
        "outputId": "fd610d7a-968a-47e6-d614-40ad03c1d172"
      },
      "outputs": [
        {
          "name": "stdout",
          "output_type": "stream",
          "text": [
            "Step 3: Matrix multiplication to obtain Q,K,V\n",
            "Queries: x * w_query\n",
            "[[1. 0. 2.]\n",
            " [2. 2. 2.]\n",
            " [2. 1. 3.]]\n"
          ]
        }
      ],
      "source": [
        "print(\"Step 3: Matrix multiplication to obtain Q,K,V\")\n",
        "\n",
        "print(\"Queries: x * w_query\")\n",
        "Q = np.matmul(x, w_query)\n",
        "print(Q)"
      ]
    },
    {
      "cell_type": "code",
      "execution_count": null,
      "metadata": {
        "colab": {
          "base_uri": "https://localhost:8080/",
          "height": 108
        },
        "colab_type": "code",
        "id": "NmfMln1Wmv73",
        "outputId": "065b63ba-7584-4302-97cd-d5e1765470ed"
      },
      "outputs": [
        {
          "name": "stdout",
          "output_type": "stream",
          "text": [
            "Step 3: Matrix multiplication to obtain Q,K,V\n",
            "Keys: x * w_key\n",
            "[[0. 1. 1.]\n",
            " [4. 4. 0.]\n",
            " [2. 3. 1.]]\n"
          ]
        }
      ],
      "source": [
        "print(\"Step 3: Matrix multiplication to obtain Q,K,V\")\n",
        "\n",
        "print(\"Keys: x * w_key\")\n",
        "K= np.matmul(x, w_key)\n",
        "print(K)"
      ]
    },
    {
      "cell_type": "code",
      "execution_count": null,
      "metadata": {
        "colab": {
          "base_uri": "https://localhost:8080/",
          "height": 90
        },
        "colab_type": "code",
        "id": "v3Asv-8mOWkN",
        "outputId": "2ec71310-0486-46f4-d9f5-d12a1a6ad0e6"
      },
      "outputs": [
        {
          "name": "stdout",
          "output_type": "stream",
          "text": [
            "Values: x * w_value\n",
            "[[1. 2. 3.]\n",
            " [2. 8. 0.]\n",
            " [2. 6. 3.]]\n"
          ]
        }
      ],
      "source": [
        "print(\"Values: x * w_value\")\n",
        "V = np.matmul(x, w_value)\n",
        "print(V)"
      ]
    },
    {
      "cell_type": "code",
      "execution_count": null,
      "metadata": {
        "colab": {
          "base_uri": "https://localhost:8080/",
          "height": 90
        },
        "colab_type": "code",
        "id": "gfgRAHUuOp5c",
        "outputId": "ad02f055-11e0-4b9a-eb15-b66e4846c95e"
      },
      "outputs": [
        {
          "name": "stdout",
          "output_type": "stream",
          "text": [
            "Step 4: Scaled Attention Scores\n",
            "[[ 2.  4.  4.]\n",
            " [ 4. 16. 12.]\n",
            " [ 4. 12. 10.]]\n"
          ]
        }
      ],
      "source": [
        "print(\"Step 4: Scaled Attention Scores\")\n",
        "k_d = 1 #square root of k_d=3 rounded down to 1 for this example\n",
        "attention_scores = np.matmul(Q, K.T) / k_d\n",
        "print(attention_scores)"
      ]
    },
    {
      "cell_type": "code",
      "execution_count": null,
      "metadata": {
        "colab": {
          "base_uri": "https://localhost:8080/",
          "height": 90
        },
        "colab_type": "code",
        "id": "hg2t6KuNOjzM",
        "outputId": "c0610f91-cd1d-4b0f-b5ce-f6445481186a"
      },
      "outputs": [
        {
          "name": "stdout",
          "output_type": "stream",
          "text": [
            "Step 5: Scaled softmax attention_scores for each vector\n",
            "[0.06337894 0.46831053 0.46831053]\n",
            "[6.03366485e-06 9.82007865e-01 1.79861014e-02]\n",
            "[2.95387223e-04 8.80536902e-01 1.19167711e-01]\n"
          ]
        }
      ],
      "source": [
        "print(\"Step 5: Scaled softmax attention_scores for each vector\")\n",
        "attention_scores[0] = softmax(attention_scores[0])\n",
        "attention_scores[1] = softmax(attention_scores[1])\n",
        "attention_scores[2] = softmax(attention_scores[2])\n",
        "print(attention_scores[0])\n",
        "print(attention_scores[1])\n",
        "print(attention_scores[2])"
      ]
    },
    {
      "cell_type": "code",
      "execution_count": null,
      "metadata": {
        "colab": {
          "base_uri": "https://localhost:8080/",
          "height": 199
        },
        "colab_type": "code",
        "id": "R4Es7A7NOvjD",
        "outputId": "b86060fe-1292-47c5-93f6-ddeeca1bfb62"
      },
      "outputs": [
        {
          "name": "stdout",
          "output_type": "stream",
          "text": [
            "Step 6: attention value obtained by score1/k_d * V\n",
            "[1. 2. 3.]\n",
            "[2. 8. 0.]\n",
            "[2. 6. 3.]\n",
            "Attention 1\n",
            "[0.06337894 0.12675788 0.19013681]\n",
            "Attention 2\n",
            "[0.93662106 3.74648425 0.        ]\n",
            "Attention 3\n",
            "[0.93662106 2.80986319 1.40493159]\n"
          ]
        }
      ],
      "source": [
        "print(\"Step 6: attention value obtained by score1/k_d * V\")\n",
        "print(V[0])\n",
        "print(V[1])\n",
        "print(V[2])\n",
        "print(\"Attention 1\")\n",
        "attention1 = attention_scores[0].reshape(-1,1)\n",
        "attention1 = attention_scores[0][0] * V[0]\n",
        "print(attention1)\n",
        "\n",
        "print(\"Attention 2\")\n",
        "attention2 = attention_scores[0][1] * V[1]\n",
        "print(attention2)\n",
        "\n",
        "print(\"Attention 3\")\n",
        "attention3 = attention_scores[0][2] * V[2]\n",
        "print(attention3)"
      ]
    },
    {
      "cell_type": "code",
      "execution_count": null,
      "metadata": {
        "colab": {
          "base_uri": "https://localhost:8080/",
          "height": 54
        },
        "colab_type": "code",
        "id": "uBDKhaCvOzXj",
        "outputId": "138901d8-0aa9-4db9-b8b1-76ad557e6688"
      },
      "outputs": [
        {
          "name": "stdout",
          "output_type": "stream",
          "text": [
            "Step 7: summed the results to create the first line of the output matrix\n",
            "[1.93662106 6.68310531 1.59506841]\n"
          ]
        }
      ],
      "source": [
        "print(\"Step 7: summed the results to create the first line of the output matrix\")\n",
        "attention_input1 = attention1 + attention2 + attention3\n",
        "print(attention_input1)"
      ]
    },
    {
      "cell_type": "code",
      "execution_count": null,
      "metadata": {
        "colab": {
          "base_uri": "https://localhost:8080/",
          "height": 635
        },
        "colab_type": "code",
        "id": "iEjgRcqHO4ik",
        "outputId": "675a154b-a305-4c0c-e314-353541abfd3e"
      },
      "outputs": [
        {
          "name": "stdout",
          "output_type": "stream",
          "text": [
            "Step 8: Step 1 to 7 for inputs 1 to 3\n",
            "[[0.05750794 0.25966685 0.80912647 0.00841755 0.53786959 0.05089332\n",
            "  0.17938191 0.91091697 0.20593063 0.27634727 0.33869867 0.25488968\n",
            "  0.88673807 0.56544205 0.69075114 0.56069125 0.92579273 0.46042461\n",
            "  0.78471374 0.93064241 0.99626239 0.13662306 0.72892312 0.52327088\n",
            "  0.90128711 0.28245531 0.05630861 0.55857421 0.50998676 0.59709355\n",
            "  0.40038745 0.70580749 0.18971837 0.78544634 0.35815199 0.57527984\n",
            "  0.38283035 0.94917395 0.25450774 0.85725663 0.27262613 0.5720429\n",
            "  0.38092713 0.34721503 0.38857267 0.50218029 0.74035216 0.37789311\n",
            "  0.12812721 0.42074447 0.39534834 0.4927362  0.65353466 0.86485487\n",
            "  0.22989766 0.87239043 0.64613354 0.89034403 0.29338559 0.1671029\n",
            "  0.1675619  0.70683457 0.03683821 0.37657364]\n",
            " [0.08308343 0.01529261 0.34000535 0.48559272 0.25036425 0.98195061\n",
            "  0.72015388 0.03838282 0.18674587 0.33203929 0.82965726 0.6962791\n",
            "  0.49038184 0.97126469 0.25373185 0.18486967 0.38352481 0.68254099\n",
            "  0.01014604 0.51217341 0.17219508 0.14178547 0.74892979 0.12190071\n",
            "  0.0090985  0.09704158 0.70447804 0.21374912 0.72523093 0.89713875\n",
            "  0.28817021 0.56472583 0.59136866 0.7711216  0.78839121 0.03607145\n",
            "  0.33438564 0.99970048 0.80579864 0.79923327 0.57124039 0.64183951\n",
            "  0.11464931 0.703289   0.64033748 0.5799896  0.14488077 0.90946673\n",
            "  0.4189947  0.99825172 0.28607413 0.6801013  0.16240732 0.25219133\n",
            "  0.30470031 0.30292756 0.15999459 0.52230381 0.82012623 0.33586634\n",
            "  0.25613996 0.60354742 0.26006038 0.23281006]\n",
            " [0.37977727 0.7429604  0.38837932 0.18434243 0.84440271 0.53955069\n",
            "  0.40121556 0.83114666 0.48845808 0.58768546 0.4097926  0.29445373\n",
            "  0.22750019 0.9520429  0.99964437 0.57829693 0.32369595 0.60769326\n",
            "  0.76116892 0.14857116 0.07462658 0.01199289 0.37147371 0.80177111\n",
            "  0.60845313 0.33410248 0.06017335 0.447363   0.31500924 0.95988807\n",
            "  0.41506716 0.33740287 0.38991258 0.23478571 0.57808465 0.48520973\n",
            "  0.48241035 0.35030686 0.90598744 0.1296871  0.57966373 0.98736092\n",
            "  0.43859306 0.5358377  0.25181342 0.0195783  0.51178364 0.26981021\n",
            "  0.04674047 0.97762416 0.72747288 0.75616534 0.68105477 0.06914679\n",
            "  0.14054312 0.42816012 0.66792325 0.03168237 0.68685758 0.43487164\n",
            "  0.08064005 0.23444144 0.60360253 0.21423994]]\n"
          ]
        }
      ],
      "source": [
        "print(\"Step 8: Step 1 to 7 for inputs 1 to 3\")\n",
        "#We assume we have 3 results with learned weights (they were not trained in this example)\n",
        "#We assume we are implementing the original Transformer paper. We will have 3 results of 64 dimensions each\n",
        "attention_head1 = np.random.random((3, 64))\n",
        "print(attention_head1)"
      ]
    },
    {
      "cell_type": "code",
      "execution_count": null,
      "metadata": {
        "colab": {
          "base_uri": "https://localhost:8080/",
          "height": 54
        },
        "colab_type": "code",
        "id": "QI50dkZ1O630",
        "outputId": "7d467842-f837-4e41-e099-534549b6fc05"
      },
      "outputs": [
        {
          "name": "stdout",
          "output_type": "stream",
          "text": [
            "Step 9: We assume we have trained the 8 heads of the attention sub-layer\n",
            "shape of one head (3, 64) dimension of 8 heads 512\n"
          ]
        }
      ],
      "source": [
        "print(\"Step 9: We assume we have trained the 8 heads of the attention sub-layer\")\n",
        "z0h1 = np.random.random((3, 64))\n",
        "z1h2 = np.random.random((3, 64))\n",
        "z2h3 = np.random.random((3, 64))\n",
        "z3h4 = np.random.random((3, 64))\n",
        "z4h5 = np.random.random((3, 64))\n",
        "z5h6 = np.random.random((3, 64))\n",
        "z6h7 = np.random.random((3, 64))\n",
        "z7h8 = np.random.random((3, 64))\n",
        "print(\"shape of one head\", z0h1.shape, \"dimension of 8 heads\", 64 * 8)"
      ]
    },
    {
      "cell_type": "code",
      "execution_count": null,
      "metadata": {
        "colab": {
          "base_uri": "https://localhost:8080/",
          "height": 90
        },
        "colab_type": "code",
        "id": "3n87LE92_Puf",
        "outputId": "55d00415-ebea-43a6-b4c5-ff13e02c3052"
      },
      "outputs": [
        {
          "name": "stdout",
          "output_type": "stream",
          "text": [
            "Step 10: Concantenation of heads 1 to 8 to obtain the original 8x64=512 ouput dimension of the model\n",
            "[[0.46950893 0.88546586 0.47615937 ... 0.08285802 0.16577096 0.61094461]\n",
            " [0.31638247 0.24246402 0.30390966 ... 0.42283366 0.62127905 0.64414042]\n",
            " [0.1922683  0.7017995  0.60116595 ... 0.20012387 0.16264044 0.93645276]]\n"
          ]
        }
      ],
      "source": [
        "print(\"Step 10: Concatenation of heads 1 to 8 to obtain the original 8x64=512 output dimension of the model\")\n",
        "output_attention = np.hstack((z0h1, z1h2, z2h3, z3h4, z4h5, z5h6, z6h7, z7h8))\n",
        "print(output_attention)"
      ]
    },
    {
      "cell_type": "markdown",
      "metadata": {
        "colab_type": "text",
        "id": "PJLl4Jf3fPLh"
      },
      "source": [
        "And now with Hugging Face in one line!"
      ]
    },
    {
      "cell_type": "code",
      "execution_count": null,
      "metadata": {
        "colab": {},
        "colab_type": "code",
        "id": "CZIRvcRmfTPb"
      },
      "outputs": [],
      "source": [
        "#@title Transformer Installation\n",
        "!pip -qq install transformers"
      ]
    },
    {
      "cell_type": "code",
      "execution_count": null,
      "metadata": {
        "colab": {
          "base_uri": "https://localhost:8080/",
          "height": 85,
          "referenced_widgets": [
            "946c90b82f7f46caa25c885668b75eab",
            "4191af78535e4da8bb797690eff84e00",
            "9ce3d57b96b64da0b15e3f3626bacb30",
            "f8da2c91156342a69d9b262f4f993aa4",
            "97370923218945c5b80ab468751ac8a7",
            "0ba4a91f472e4c41ba80ab4025288446",
            "15aa4b6f8f784c74804107be249126b9",
            "edea457617ed4792aeeb65292019ceb4"
          ]
        },
        "colab_type": "code",
        "id": "cNwLYc-SfXdF",
        "outputId": "d1314cc6-74d6-45cf-b8d6-0a903e58ac60"
      },
      "outputs": [
        {
          "data": {
            "application/vnd.jupyter.widget-view+json": {
              "model_id": "946c90b82f7f46caa25c885668b75eab",
              "version_major": 2,
              "version_minor": 0
            },
            "text/plain": [
              "HBox(children=(FloatProgress(value=0.0, description='Downloading', max=230.0, style=ProgressStyle(description_…"
            ]
          },
          "metadata": {
            "tags": []
          },
          "output_type": "display_data"
        },
        {
          "name": "stdout",
          "output_type": "stream",
          "text": [
            "\n",
            "[{'translation_text': 'Il est facile de traduire des langues avec des transformateurs.'}]\n"
          ]
        }
      ],
      "source": [
        "#@title Retrieve pipeline of modules and choose English to French translation\n",
        "from transformers import pipeline\n",
        "translator = pipeline(\"translation_en_to_fr\")\n",
        "#One line of code!\n",
        "print(translator(\"It is easy to translate languages with transformers\", max_length=40))"
      ]
    }
  ],
  "metadata": {
    "accelerator": "GPU",
    "colab": {
      "collapsed_sections": [],
      "name": "Multi-Head Attention Sub-Layer.ipynb",
      "provenance": []
    },
    "kernelspec": {
      "display_name": "Python 3",
      "language": "python",
      "name": "python3"
    },
    "language_info": {
      "name": "python",
      "version": "3.10.6 (main, Mar 10 2023, 10:55:28) [GCC 11.3.0]"
    },
    "vscode": {
      "interpreter": {
        "hash": "916dbcbb3f70747c44a77c7bcd40155683ae19c65e1c03b4aa3499c5328201f1"
      }
    },
    "widgets": {
      "application/vnd.jupyter.widget-state+json": {
        "0ba4a91f472e4c41ba80ab4025288446": {
          "model_module": "@jupyter-widgets/base",
          "model_name": "LayoutModel",
          "state": {
            "_model_module": "@jupyter-widgets/base",
            "_model_module_version": "1.2.0",
            "_model_name": "LayoutModel",
            "_view_count": null,
            "_view_module": "@jupyter-widgets/base",
            "_view_module_version": "1.2.0",
            "_view_name": "LayoutView",
            "align_content": null,
            "align_items": null,
            "align_self": null,
            "border": null,
            "bottom": null,
            "display": null,
            "flex": null,
            "flex_flow": null,
            "grid_area": null,
            "grid_auto_columns": null,
            "grid_auto_flow": null,
            "grid_auto_rows": null,
            "grid_column": null,
            "grid_gap": null,
            "grid_row": null,
            "grid_template_areas": null,
            "grid_template_columns": null,
            "grid_template_rows": null,
            "height": null,
            "justify_content": null,
            "justify_items": null,
            "left": null,
            "margin": null,
            "max_height": null,
            "max_width": null,
            "min_height": null,
            "min_width": null,
            "object_fit": null,
            "object_position": null,
            "order": null,
            "overflow": null,
            "overflow_x": null,
            "overflow_y": null,
            "padding": null,
            "right": null,
            "top": null,
            "visibility": null,
            "width": null
          }
        },
        "15aa4b6f8f784c74804107be249126b9": {
          "model_module": "@jupyter-widgets/controls",
          "model_name": "DescriptionStyleModel",
          "state": {
            "_model_module": "@jupyter-widgets/controls",
            "_model_module_version": "1.5.0",
            "_model_name": "DescriptionStyleModel",
            "_view_count": null,
            "_view_module": "@jupyter-widgets/base",
            "_view_module_version": "1.2.0",
            "_view_name": "StyleView",
            "description_width": ""
          }
        },
        "4191af78535e4da8bb797690eff84e00": {
          "model_module": "@jupyter-widgets/base",
          "model_name": "LayoutModel",
          "state": {
            "_model_module": "@jupyter-widgets/base",
            "_model_module_version": "1.2.0",
            "_model_name": "LayoutModel",
            "_view_count": null,
            "_view_module": "@jupyter-widgets/base",
            "_view_module_version": "1.2.0",
            "_view_name": "LayoutView",
            "align_content": null,
            "align_items": null,
            "align_self": null,
            "border": null,
            "bottom": null,
            "display": null,
            "flex": null,
            "flex_flow": null,
            "grid_area": null,
            "grid_auto_columns": null,
            "grid_auto_flow": null,
            "grid_auto_rows": null,
            "grid_column": null,
            "grid_gap": null,
            "grid_row": null,
            "grid_template_areas": null,
            "grid_template_columns": null,
            "grid_template_rows": null,
            "height": null,
            "justify_content": null,
            "justify_items": null,
            "left": null,
            "margin": null,
            "max_height": null,
            "max_width": null,
            "min_height": null,
            "min_width": null,
            "object_fit": null,
            "object_position": null,
            "order": null,
            "overflow": null,
            "overflow_x": null,
            "overflow_y": null,
            "padding": null,
            "right": null,
            "top": null,
            "visibility": null,
            "width": null
          }
        },
        "946c90b82f7f46caa25c885668b75eab": {
          "model_module": "@jupyter-widgets/controls",
          "model_name": "HBoxModel",
          "state": {
            "_dom_classes": [],
            "_model_module": "@jupyter-widgets/controls",
            "_model_module_version": "1.5.0",
            "_model_name": "HBoxModel",
            "_view_count": null,
            "_view_module": "@jupyter-widgets/controls",
            "_view_module_version": "1.5.0",
            "_view_name": "HBoxView",
            "box_style": "",
            "children": [
              "IPY_MODEL_9ce3d57b96b64da0b15e3f3626bacb30",
              "IPY_MODEL_f8da2c91156342a69d9b262f4f993aa4"
            ],
            "layout": "IPY_MODEL_4191af78535e4da8bb797690eff84e00"
          }
        },
        "97370923218945c5b80ab468751ac8a7": {
          "model_module": "@jupyter-widgets/controls",
          "model_name": "ProgressStyleModel",
          "state": {
            "_model_module": "@jupyter-widgets/controls",
            "_model_module_version": "1.5.0",
            "_model_name": "ProgressStyleModel",
            "_view_count": null,
            "_view_module": "@jupyter-widgets/base",
            "_view_module_version": "1.2.0",
            "_view_name": "StyleView",
            "bar_color": null,
            "description_width": "initial"
          }
        },
        "9ce3d57b96b64da0b15e3f3626bacb30": {
          "model_module": "@jupyter-widgets/controls",
          "model_name": "FloatProgressModel",
          "state": {
            "_dom_classes": [],
            "_model_module": "@jupyter-widgets/controls",
            "_model_module_version": "1.5.0",
            "_model_name": "FloatProgressModel",
            "_view_count": null,
            "_view_module": "@jupyter-widgets/controls",
            "_view_module_version": "1.5.0",
            "_view_name": "ProgressView",
            "bar_style": "success",
            "description": "Downloading: 100%",
            "description_tooltip": null,
            "layout": "IPY_MODEL_0ba4a91f472e4c41ba80ab4025288446",
            "max": 230,
            "min": 0,
            "orientation": "horizontal",
            "style": "IPY_MODEL_97370923218945c5b80ab468751ac8a7",
            "value": 230
          }
        },
        "edea457617ed4792aeeb65292019ceb4": {
          "model_module": "@jupyter-widgets/base",
          "model_name": "LayoutModel",
          "state": {
            "_model_module": "@jupyter-widgets/base",
            "_model_module_version": "1.2.0",
            "_model_name": "LayoutModel",
            "_view_count": null,
            "_view_module": "@jupyter-widgets/base",
            "_view_module_version": "1.2.0",
            "_view_name": "LayoutView",
            "align_content": null,
            "align_items": null,
            "align_self": null,
            "border": null,
            "bottom": null,
            "display": null,
            "flex": null,
            "flex_flow": null,
            "grid_area": null,
            "grid_auto_columns": null,
            "grid_auto_flow": null,
            "grid_auto_rows": null,
            "grid_column": null,
            "grid_gap": null,
            "grid_row": null,
            "grid_template_areas": null,
            "grid_template_columns": null,
            "grid_template_rows": null,
            "height": null,
            "justify_content": null,
            "justify_items": null,
            "left": null,
            "margin": null,
            "max_height": null,
            "max_width": null,
            "min_height": null,
            "min_width": null,
            "object_fit": null,
            "object_position": null,
            "order": null,
            "overflow": null,
            "overflow_x": null,
            "overflow_y": null,
            "padding": null,
            "right": null,
            "top": null,
            "visibility": null,
            "width": null
          }
        },
        "f8da2c91156342a69d9b262f4f993aa4": {
          "model_module": "@jupyter-widgets/controls",
          "model_name": "HTMLModel",
          "state": {
            "_dom_classes": [],
            "_model_module": "@jupyter-widgets/controls",
            "_model_module_version": "1.5.0",
            "_model_name": "HTMLModel",
            "_view_count": null,
            "_view_module": "@jupyter-widgets/controls",
            "_view_module_version": "1.5.0",
            "_view_name": "HTMLView",
            "description": "",
            "description_tooltip": null,
            "layout": "IPY_MODEL_edea457617ed4792aeeb65292019ceb4",
            "placeholder": "​",
            "style": "IPY_MODEL_15aa4b6f8f784c74804107be249126b9",
            "value": " 230/230 [00:01&lt;00:00, 185B/s]"
          }
        }
      }
    }
  },
  "nbformat": 4,
  "nbformat_minor": 0
}
